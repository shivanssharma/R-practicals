{
  "nbformat": 4,
  "nbformat_minor": 0,
  "metadata": {
    "colab": {
      "provenance": [],
      "include_colab_link": true
    },
    "kernelspec": {
      "name": "ir",
      "display_name": "R"
    },
    "language_info": {
      "name": "R"
    }
  },
  "cells": [
    {
      "cell_type": "markdown",
      "metadata": {
        "id": "view-in-github",
        "colab_type": "text"
      },
      "source": [
        "<a href=\"https://colab.research.google.com/github/shivanssharma/R-practicals/blob/main/Basic_GGPLOT_Functions.ipynb\" target=\"_parent\"><img src=\"https://colab.research.google.com/assets/colab-badge.svg\" alt=\"Open In Colab\"/></a>"
      ]
    },
    {
      "cell_type": "markdown",
      "source": [
        "# GG-plot\n",
        "- Shivansh Sharma\n",
        "- 24040208003"
      ],
      "metadata": {
        "id": "yvKMZxRqxU-K"
      }
    },
    {
      "cell_type": "markdown",
      "source": [
        "# GG Plot"
      ],
      "metadata": {
        "id": "Roy6ujNgoG63"
      }
    },
    {
      "cell_type": "markdown",
      "source": [
        "\n",
        "## Installing Library\n"
      ],
      "metadata": {
        "id": "vh5QoCaDn_h_"
      }
    },
    {
      "cell_type": "code",
      "execution_count": null,
      "metadata": {
        "colab": {
          "base_uri": "https://localhost:8080/"
        },
        "id": "lKfD6yEYgfM1",
        "outputId": "6e546fdf-4206-4a42-e2fc-4abb04963b66"
      },
      "outputs": [
        {
          "output_type": "stream",
          "name": "stderr",
          "text": [
            "Installing package into ‘/usr/local/lib/R/site-library’\n",
            "(as ‘lib’ is unspecified)\n",
            "\n",
            "Installing package into ‘/usr/local/lib/R/site-library’\n",
            "(as ‘lib’ is unspecified)\n",
            "\n"
          ]
        }
      ],
      "source": [
        "install.packages(\"tidyverse\")\n",
        "install.packages(\"maps\")\n",
        "library(tidyverse)\n",
        "library(maps)"
      ]
    },
    {
      "cell_type": "markdown",
      "source": [
        "\n",
        "## 1.Creating a ggplot\n"
      ],
      "metadata": {
        "id": "NYci9I-goONP"
      }
    },
    {
      "cell_type": "code",
      "source": [
        "ggplot(data = mpg) +\n",
        " geom_point(mapping = aes(x = displ, y = hwy))"
      ],
      "metadata": {
        "id": "n47UFQREnf8P"
      },
      "execution_count": null,
      "outputs": []
    },
    {
      "cell_type": "markdown",
      "source": [
        "\n",
        "\n",
        "##  2. Aesthetic Mappings\n"
      ],
      "metadata": {
        "id": "gE2tCO2ioieW"
      }
    },
    {
      "cell_type": "markdown",
      "source": [
        "#### Color = class controlls color"
      ],
      "metadata": {
        "id": "48-sXMuXpCqn"
      }
    },
    {
      "cell_type": "code",
      "source": [
        "ggplot(data = mpg) +\n",
        " geom_point(mapping = aes(x = displ, y = hwy, color = class))"
      ],
      "metadata": {
        "id": "1QZs8Yhsod_-"
      },
      "execution_count": null,
      "outputs": []
    },
    {
      "cell_type": "markdown",
      "source": [
        "#### size= class controlls the size"
      ],
      "metadata": {
        "id": "6dVatj4jo6_P"
      }
    },
    {
      "cell_type": "code",
      "source": [
        "ggplot(data = mpg) +\n",
        " geom_point(mapping = aes(x = displ, y = hwy, size = class))"
      ],
      "metadata": {
        "id": "4b4Abf9moeaG"
      },
      "execution_count": null,
      "outputs": []
    },
    {
      "cell_type": "markdown",
      "source": [
        "#### alpha=Class controls the transparency"
      ],
      "metadata": {
        "id": "u9xkxU6OozmX"
      }
    },
    {
      "cell_type": "code",
      "source": [
        "ggplot(data = mpg) +\n",
        " geom_point(mapping = aes(x = displ, y = hwy, alpha = class))"
      ],
      "metadata": {
        "id": "IrJav7k_on1G"
      },
      "execution_count": null,
      "outputs": []
    },
    {
      "cell_type": "markdown",
      "source": [
        "#### shape = class controlls the shapes"
      ],
      "metadata": {
        "id": "1ys6o1hMpIZI"
      }
    },
    {
      "cell_type": "code",
      "source": [
        "ggplot(data = mpg) +\n",
        " geom_point(mapping = aes(x = displ, y = hwy, shape = class))"
      ],
      "metadata": {
        "id": "h2BS0E5gorNu"
      },
      "execution_count": null,
      "outputs": []
    },
    {
      "cell_type": "markdown",
      "source": [
        "#### color = \"blue\" make sure all are in blue color"
      ],
      "metadata": {
        "id": "CfWmlGoIpRBn"
      }
    },
    {
      "cell_type": "code",
      "source": [
        "ggplot(data = mpg) +\n",
        " geom_point(mapping = aes(x = displ, y = hwy), color = \"blue\")"
      ],
      "metadata": {
        "id": "JL6R9q2botCO"
      },
      "execution_count": null,
      "outputs": []
    },
    {
      "cell_type": "markdown",
      "source": [
        "\n",
        "\n",
        "## 3. Facets\n"
      ],
      "metadata": {
        "id": "FXLLBjI-pfiv"
      }
    },
    {
      "cell_type": "markdown",
      "source": [
        "#### facet_wrap() splits the plot into multiple smaller plots based on a categorical variable.\n"
      ],
      "metadata": {
        "id": "xJxu9pV4uJKA"
      }
    },
    {
      "cell_type": "code",
      "source": [
        "ggplot(data = mpg) +\n",
        " geom_point(mapping = aes(x = displ, y = hwy)) +\n",
        " facet_wrap(~ class, nrow = 2)"
      ],
      "metadata": {
        "id": "mmhOj3d2pQyn"
      },
      "execution_count": null,
      "outputs": []
    },
    {
      "cell_type": "markdown",
      "source": [
        "#### facet_grid() creates a grid of plots based on two categorical variables.\n"
      ],
      "metadata": {
        "id": "9A_hnWjPuPJb"
      }
    },
    {
      "cell_type": "code",
      "source": [
        "ggplot(data = mpg) +\n",
        " geom_point(mapping = aes(x = displ, y = hwy)) +\n",
        " facet_grid(drv ~ cyl)"
      ],
      "metadata": {
        "id": "JpKAs2tRpqAv"
      },
      "execution_count": null,
      "outputs": []
    },
    {
      "cell_type": "markdown",
      "source": [
        "## 4.Geometric Objects"
      ],
      "metadata": {
        "id": "DF2Qf3Wop4Rv"
      }
    },
    {
      "cell_type": "code",
      "source": [
        "ggplot(data = mpg) +\n",
        " geom_point(mapping = aes(x = displ, y = hwy))"
      ],
      "metadata": {
        "id": "uKMyASYapvl2"
      },
      "execution_count": null,
      "outputs": []
    },
    {
      "cell_type": "markdown",
      "source": [
        "#### geom_smooth() adds a smoothed trend line to the scatter plot.\n"
      ],
      "metadata": {
        "id": "kFVjhgQfvCin"
      }
    },
    {
      "cell_type": "code",
      "source": [
        "ggplot(data = mpg) +\n",
        " geom_smooth(mapping = aes(x = displ, y = hwy))"
      ],
      "metadata": {
        "id": "s28SoZ4Yp7iu"
      },
      "execution_count": null,
      "outputs": []
    },
    {
      "cell_type": "markdown",
      "source": [
        "#### The linetype aesthetic changes the line style based on the drive type (drv)."
      ],
      "metadata": {
        "id": "x7ZZwjd7vR25"
      }
    },
    {
      "cell_type": "code",
      "source": [
        "ggplot(data = mpg) +\n",
        " geom_smooth(mapping = aes(x = displ, y = hwy, linetype = drv))"
      ],
      "metadata": {
        "id": "jaP03ZCEp9HW"
      },
      "execution_count": null,
      "outputs": []
    },
    {
      "cell_type": "code",
      "source": [
        "ggplot(data = mpg) +\n",
        " geom_smooth(mapping = aes(x = displ, y = hwy))"
      ],
      "metadata": {
        "id": "JXnyWu5Dp-uO"
      },
      "execution_count": null,
      "outputs": []
    },
    {
      "cell_type": "markdown",
      "source": [
        "#### The group aesthetic forces separate trend lines for each drive type."
      ],
      "metadata": {
        "id": "qs5gUEycvTLY"
      }
    },
    {
      "cell_type": "code",
      "source": [
        "ggplot(data = mpg) +\n",
        " geom_smooth(mapping = aes(x = displ, y = hwy, group = drv))"
      ],
      "metadata": {
        "id": "TRCqwZ23qCku"
      },
      "execution_count": null,
      "outputs": []
    },
    {
      "cell_type": "markdown",
      "source": [
        "#### The color aesthetic assigns a different color to each drive type (drv)."
      ],
      "metadata": {
        "id": "XCKEskpxvYAA"
      }
    },
    {
      "cell_type": "code",
      "source": [
        "ggplot(data = mpg) +\n",
        " geom_smooth(\n",
        " mapping = aes(x = displ, y = hwy, color = drv),\n",
        " show.legend = FALSE\n",
        " )"
      ],
      "metadata": {
        "id": "RcrIrqBcqEPW"
      },
      "execution_count": null,
      "outputs": []
    },
    {
      "cell_type": "markdown",
      "source": [
        "\n",
        "\n",
        "#### 1.   geom_point() plots individual data points.\n",
        "#### 2.   geom_smooth() adds a trend line to show the overall pattern.\n",
        "\n",
        "\n"
      ],
      "metadata": {
        "id": "ell8Fj54vcJx"
      }
    },
    {
      "cell_type": "code",
      "source": [
        "ggplot(data = mpg) +\n",
        " geom_point(mapping = aes(x = displ, y = hwy)) +\n",
        " geom_smooth(mapping = aes(x = displ, y = hwy))"
      ],
      "metadata": {
        "id": "hS_LnphNqFde"
      },
      "execution_count": null,
      "outputs": []
    },
    {
      "cell_type": "code",
      "source": [
        "ggplot(data = mpg, mapping = aes(x = displ, y = hwy)) +\n",
        " geom_point() +\n",
        " geom_smooth()"
      ],
      "metadata": {
        "id": "llzwJJd3qHw-"
      },
      "execution_count": null,
      "outputs": []
    },
    {
      "cell_type": "markdown",
      "source": [
        "#### Color individual points based on car class."
      ],
      "metadata": {
        "id": "PvqHYcjGvzro"
      }
    },
    {
      "cell_type": "code",
      "source": [
        "ggplot(data = mpg, mapping = aes(x = displ, y = hwy)) +\n",
        " geom_point(mapping = aes(color = class)) +\n",
        " geom_smooth()"
      ],
      "metadata": {
        "id": "ZNF6J2JKqKHu"
      },
      "execution_count": null,
      "outputs": []
    },
    {
      "cell_type": "markdown",
      "source": [
        "#### Only show a smooth trend line for subcompact cars."
      ],
      "metadata": {
        "id": "hUXwRi-gvxTh"
      }
    },
    {
      "cell_type": "code",
      "source": [
        "ggplot(data = mpg, mapping = aes(x = displ, y = hwy)) +\n",
        " geom_point(mapping = aes(color = class)) +\n",
        " geom_smooth(\n",
        " data = filter(mpg, class == \"subcompact\"),\n",
        " se = FALSE\n",
        " )"
      ],
      "metadata": {
        "id": "TElpvxn7qNnu"
      },
      "execution_count": null,
      "outputs": []
    },
    {
      "cell_type": "markdown",
      "source": [
        "## 5.Statistical Transformations"
      ],
      "metadata": {
        "id": "9Duwtyh_qRsn"
      }
    },
    {
      "cell_type": "markdown",
      "source": [
        "#### geom_bar() creates a bar chart, which counts the number of observations in each category."
      ],
      "metadata": {
        "id": "zbZ6d_hfv-RQ"
      }
    },
    {
      "cell_type": "code",
      "source": [
        "ggplot(data = diamonds) +\n",
        " geom_bar(mapping = aes(x = cut))"
      ],
      "metadata": {
        "id": "Ra1zBTpFqQAO"
      },
      "execution_count": null,
      "outputs": []
    },
    {
      "cell_type": "markdown",
      "source": [
        "#### stat_count() is an alternative to geom_bar() for counting categorical values.\n"
      ],
      "metadata": {
        "id": "f60bkAUrwMKw"
      }
    },
    {
      "cell_type": "code",
      "source": [
        "ggplot(data = diamonds) +\n",
        " stat_count(mapping = aes(x = cut))"
      ],
      "metadata": {
        "id": "OWkp5b7VqUvG"
      },
      "execution_count": null,
      "outputs": []
    },
    {
      "cell_type": "markdown",
      "source": [
        "#### Creating a small dataset using tribble() to define rows manually.\n",
        "#### Using geom_bar() with stat = \"identity\" to plot bars with specified heights.\n"
      ],
      "metadata": {
        "id": "7yUHI874wX3s"
      }
    },
    {
      "cell_type": "code",
      "source": [
        "demo <- tribble(\n",
        " ~a, ~b,\n",
        " \"bar_1\", 20,\n",
        " \"bar_2\", 30,\n",
        " \"bar_3\", 40\n",
        ")\n",
        "ggplot(data = demo) +\n",
        " geom_bar(\n",
        " mapping = aes(x = a, y = b), stat = \"identity\"\n",
        " )"
      ],
      "metadata": {
        "id": "sDJVQSTXqWsG"
      },
      "execution_count": null,
      "outputs": []
    },
    {
      "cell_type": "markdown",
      "source": [
        "#### geom_bar() usually counts the number of observations in each category.\n"
      ],
      "metadata": {
        "id": "qye90u_5wYjZ"
      }
    },
    {
      "cell_type": "code",
      "source": [
        "ggplot(data = diamonds) +\n",
        " geom_bar(\n",
        " mapping = aes(x = cut, y = ..prop.., group = 1)\n",
        " )"
      ],
      "metadata": {
        "id": "qAoG-UHJqZfW"
      },
      "execution_count": null,
      "outputs": []
    },
    {
      "cell_type": "markdown",
      "source": [
        "#### stat_summary() is used to summarize data with custom functions.\n",
        "#### It calculates minimum, maximum, and median depth for each cut category.\n"
      ],
      "metadata": {
        "id": "wQ17pILUwZEI"
      }
    },
    {
      "cell_type": "code",
      "source": [
        "ggplot(data = diamonds) +\n",
        " stat_summary(\n",
        " mapping = aes(x = cut, y = depth),\n",
        " fun.ymin = min,\n",
        " fun.ymax = max,\n",
        " fun.y = median\n",
        " )"
      ],
      "metadata": {
        "id": "WPCWnR0Qqbxu"
      },
      "execution_count": null,
      "outputs": []
    },
    {
      "cell_type": "markdown",
      "source": [
        "## 6.Position Adjustments"
      ],
      "metadata": {
        "id": "yOrZ4RIeqgzv"
      }
    },
    {
      "cell_type": "markdown",
      "source": [
        "#### color a bar chart using either the color aesthetic, or more usefully fill"
      ],
      "metadata": {
        "id": "jKFy0Gy_raE_"
      }
    },
    {
      "cell_type": "code",
      "source": [
        "ggplot(data = diamonds) +\n",
        " geom_bar(mapping = aes(x = cut, color = cut))\n",
        "ggplot(data = diamonds) +\n",
        " geom_bar(mapping = aes(x = cut, fill = cut))"
      ],
      "metadata": {
        "id": "BnyZyvrIqfJO"
      },
      "execution_count": null,
      "outputs": []
    },
    {
      "cell_type": "markdown",
      "source": [
        "#### fill = clarity:the bars are automatically stacked"
      ],
      "metadata": {
        "id": "vMZ6o2u7rG7H"
      }
    },
    {
      "cell_type": "code",
      "source": [
        "ggplot(data = diamonds) +\n",
        " geom_bar(mapping = aes(x = cut, fill = clarity))"
      ],
      "metadata": {
        "id": "a1zSQCJGqkC_"
      },
      "execution_count": null,
      "outputs": []
    },
    {
      "cell_type": "markdown",
      "source": [
        "#### position = \"identity\" will place each object exactly where it falls in the context of the graph."
      ],
      "metadata": {
        "id": "T7h6VHt7rCM3"
      }
    },
    {
      "cell_type": "code",
      "source": [
        "ggplot(\n",
        " data = diamonds,\n",
        " mapping = aes(x = cut, fill = clarity)\n",
        ") +\n",
        " geom_bar(alpha = 1/5, position = \"identity\")\n",
        "ggplot(\n",
        " data = diamonds,\n",
        " mapping = aes(x = cut, color = clarity)\n",
        ") +\n",
        " geom_bar(fill = NA, position = \"identity\")"
      ],
      "metadata": {
        "id": "4JJGri7-qnDO"
      },
      "execution_count": null,
      "outputs": []
    },
    {
      "cell_type": "markdown",
      "source": [
        "#### position = \"fill\" works like stacking, but makes each set of stacked bars the same height."
      ],
      "metadata": {
        "id": "wc7DwCPCq4u_"
      }
    },
    {
      "cell_type": "code",
      "source": [
        "ggplot(data = diamonds) +\n",
        " geom_bar(\n",
        " mapping = aes(x = cut, fill = clarity),\n",
        " position = \"fill\"\n",
        " )"
      ],
      "metadata": {
        "id": "hViD14ICqp0A"
      },
      "execution_count": null,
      "outputs": []
    },
    {
      "cell_type": "markdown",
      "source": [
        "####  position = \"dodge\" places overlapping objects directly beside one another"
      ],
      "metadata": {
        "id": "JPa4ssHnq0vn"
      }
    },
    {
      "cell_type": "code",
      "source": [
        "ggplot(data = diamonds) +\n",
        " geom_bar(\n",
        " mapping = aes(x = cut, fill = clarity),\n",
        " position = \"dodge\"\n",
        " )"
      ],
      "metadata": {
        "id": "r-ryIAxvqty-"
      },
      "execution_count": null,
      "outputs": []
    },
    {
      "cell_type": "markdown",
      "source": [
        "#### position = \"jitter\" adds a small amount of random noise to each point"
      ],
      "metadata": {
        "id": "eLC25zq9rm3n"
      }
    },
    {
      "cell_type": "code",
      "source": [
        "ggplot(data = mpg) +\n",
        " geom_point(\n",
        " mapping = aes(x = displ, y = hwy),\n",
        " position = \"jitter\"\n",
        " )"
      ],
      "metadata": {
        "id": "AOQ9kknxqxwO"
      },
      "execution_count": null,
      "outputs": []
    },
    {
      "cell_type": "markdown",
      "source": [
        "## 7.Coordinate Systems"
      ],
      "metadata": {
        "id": "4s9rgBB9sC1I"
      }
    },
    {
      "cell_type": "markdown",
      "source": [
        "#### coord_flip() switches the x- and y-axes."
      ],
      "metadata": {
        "id": "63MTpKIxsLz1"
      }
    },
    {
      "cell_type": "code",
      "source": [
        "ggplot(data = mpg, mapping = aes(x = class, y = hwy)) +\n",
        " geom_boxplot()\n",
        "ggplot(data = mpg, mapping = aes(x = class, y = hwy)) +\n",
        " geom_boxplot() +\n",
        " coord_flip()"
      ],
      "metadata": {
        "id": "VF-1TDR_rruv"
      },
      "execution_count": null,
      "outputs": []
    },
    {
      "cell_type": "markdown",
      "source": [
        "#### coord_quickmap() sets the aspect ratio correctly for maps."
      ],
      "metadata": {
        "id": "Gypri86VsPdZ"
      }
    },
    {
      "cell_type": "code",
      "source": [
        "nz <- map_data(\"nz\")\n",
        "ggplot(nz, aes(long, lat, group = group)) +\n",
        " geom_polygon(fill = \"white\", color = \"black\")\n",
        "ggplot(nz, aes(long, lat, group = group)) +\n",
        " geom_polygon(fill = \"white\", color = \"black\") +\n",
        " coord_quickmap()"
      ],
      "metadata": {
        "id": "vb8dzT6AsIav"
      },
      "execution_count": null,
      "outputs": []
    },
    {
      "cell_type": "markdown",
      "source": [
        "#### coord_polar() uses polar coordinates"
      ],
      "metadata": {
        "id": "pKUNvkSDsiMn"
      }
    },
    {
      "cell_type": "code",
      "source": [
        "bar <- ggplot(data = diamonds) +\n",
        " geom_bar(\n",
        " mapping = aes(x = cut, fill = cut),\n",
        " show.legend = FALSE,\n",
        " width = 1\n",
        " ) +\n",
        " theme(aspect.ratio = 1) +\n",
        " labs(x = NULL, y = NULL)\n",
        "bar + coord_flip()\n",
        "bar + coord_polar()"
      ],
      "metadata": {
        "id": "nQpDm7AesU6X"
      },
      "execution_count": null,
      "outputs": []
    },
    {
      "cell_type": "code",
      "source": [],
      "metadata": {
        "id": "cBencXWhsnL-"
      },
      "execution_count": null,
      "outputs": []
    }
  ]
}