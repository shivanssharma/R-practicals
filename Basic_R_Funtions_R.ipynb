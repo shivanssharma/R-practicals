{
  "nbformat": 4,
  "nbformat_minor": 0,
  "metadata": {
    "colab": {
      "provenance": [],
      "include_colab_link": true
    },
    "kernelspec": {
      "name": "ir",
      "display_name": "R"
    },
    "language_info": {
      "name": "R"
    }
  },
  "cells": [
    {
      "cell_type": "markdown",
      "metadata": {
        "id": "view-in-github",
        "colab_type": "text"
      },
      "source": [
        "<a href=\"https://colab.research.google.com/github/shivanssharma/R-practicals/blob/main/Basic_R_Funtions_R.ipynb\" target=\"_parent\"><img src=\"https://colab.research.google.com/assets/colab-badge.svg\" alt=\"Open In Colab\"/></a>"
      ]
    },
    {
      "cell_type": "markdown",
      "source": [
        "# R Functions\n",
        "- Shivansh Sharma\n",
        "- 24040208006"
      ],
      "metadata": {
        "id": "zBYwP9Qx3_56"
      }
    },
    {
      "cell_type": "code",
      "execution_count": 1,
      "metadata": {
        "id": "pmIBgwISfbTm",
        "outputId": "aa4365fa-79ff-44e6-eab8-61b0e3b74933",
        "colab": {
          "base_uri": "https://localhost:8080/"
        }
      },
      "outputs": [
        {
          "output_type": "stream",
          "name": "stdout",
          "text": [
            "[1] 1 2 3 4 5\n",
            "[1] 1 3 5 7 9\n",
            "[1] 1 2 3 1 2 3\n",
            "[1] 5\n",
            "[1] 5 4 3 2 1\n",
            "[1] 1 2 3 4 5\n",
            "[1] 5 4 3 2 1\n",
            "[1] 1 2 3 4\n",
            "\n",
            "A B C \n",
            "2 2 1 \n",
            "[1] 2\n",
            "[1] TRUE\n",
            "[1] 4 5\n",
            "[1] TRUE\n",
            "[1] TRUE\n"
          ]
        }
      ],
      "source": [
        "# Basic Operations\n",
        "v <- c(1, 2, 3, 4, 5)  # Create a vector\n",
        "print(v)\n",
        "\n",
        "seq_vec <- seq(1, 10, by=2)  # Generate a sequence\n",
        "print(seq_vec)\n",
        "\n",
        "rep_vec <- rep(1:3, times=2)  # Repeat elements\n",
        "print(rep_vec)\n",
        "\n",
        "len <- length(v)  # Get vector length\n",
        "print(len)\n",
        "\n",
        "sorted_v <- sort(v, decreasing=TRUE)  # Sort values\n",
        "print(sorted_v)\n",
        "\n",
        "o_idx <- order(v)  # Get ordering index\n",
        "print(o_idx)\n",
        "\n",
        "rev_v <- rev(v)  # Reverse elements\n",
        "print(rev_v)\n",
        "\n",
        "unique_vals <- unique(c(1, 2, 2, 3, 4))  # Find unique values\n",
        "print(unique_vals)\n",
        "\n",
        "freq_table <- table(c(\"A\", \"B\", \"A\", \"C\", \"B\"))  # Frequency table\n",
        "print(freq_table)\n",
        "\n",
        "match_idx <- match(2, v)  # Find index of matching value\n",
        "print(match_idx)\n",
        "\n",
        "exists <- 3 %in% v  # Check if value exists in vector\n",
        "print(exists)\n",
        "\n",
        "idx <- which(v > 3)  # Find index of elements satisfying condition\n",
        "print(idx)\n",
        "\n",
        "any_true <- any(v > 3)  # Check if any value is TRUE\n",
        "print(any_true)\n",
        "\n",
        "all_true <- all(v > 0)  # Check if all values are TRUE\n",
        "print(all_true)\n",
        "\n"
      ]
    },
    {
      "cell_type": "code",
      "source": [
        "# Handling missing values\n",
        "na_vec <- c(1, NA, 3)\n",
        "is_na <- is.na(na_vec)  # Check for missing values\n",
        "print(is_na)\n",
        "\n",
        "clean_vec <- na.omit(na_vec)  # Remove NA values\n",
        "print(clean_vec)\n",
        "\n",
        "replaced_vec <- replace(v, v == 2, 10)  # Replace values\n",
        "print(replaced_vec)\n",
        "\n"
      ],
      "metadata": {
        "id": "o5vfy83N4JSd",
        "outputId": "27bc9dd1-9f5e-4239-b145-c3e956c971d8",
        "colab": {
          "base_uri": "https://localhost:8080/"
        }
      },
      "execution_count": 2,
      "outputs": [
        {
          "output_type": "stream",
          "name": "stdout",
          "text": [
            "[1] FALSE  TRUE FALSE\n",
            "[1] 1 3\n",
            "attr(,\"na.action\")\n",
            "[1] 2\n",
            "attr(,\"class\")\n",
            "[1] \"omit\"\n",
            "[1]  1 10  3  4  5\n"
          ]
        }
      ]
    },
    {
      "cell_type": "code",
      "source": [
        "# Type conversion\n",
        "num_val <- as.numeric(\"10\")  # Convert to numeric\n",
        "print(num_val)\n",
        "\n",
        "char_val <- as.character(100)  # Convert to character\n",
        "print(char_val)\n",
        "\n",
        "factor_val <- as.factor(c(\"A\", \"B\", \"A\"))  # Convert to factor\n",
        "print(factor_val)\n",
        "\n",
        "date_val <- as.Date(\"2023-01-01\")  # Convert to date\n",
        "print(date_val)\n",
        "\n",
        "current_date <- Sys.Date()  # Get current date\n",
        "print(current_date)\n",
        "\n"
      ],
      "metadata": {
        "id": "2jt3ni_h4PAb",
        "outputId": "57d9a331-f75a-46c5-d327-128f6df0f722",
        "colab": {
          "base_uri": "https://localhost:8080/"
        }
      },
      "execution_count": 3,
      "outputs": [
        {
          "output_type": "stream",
          "name": "stdout",
          "text": [
            "[1] 10\n",
            "[1] \"100\"\n",
            "[1] A B A\n",
            "Levels: A B\n",
            "[1] \"2023-01-01\"\n",
            "[1] \"2025-02-05\"\n"
          ]
        }
      ]
    },
    {
      "cell_type": "code",
      "source": [
        "# String operations\n",
        "str1 <- paste(\"Hello\", \"World\")  # Concatenate strings\n",
        "print(str1)\n",
        "\n",
        "str2 <- paste0(\"Hello\", \"World\")  # Concatenate without space\n",
        "print(str2)\n",
        "\n",
        "upper <- toupper(\"hello\")  # Convert to uppercase\n",
        "print(upper)\n",
        "\n",
        "lower <- tolower(\"HELLO\")  # Convert to lowercase\n",
        "print(lower)\n",
        "\n",
        "sub_str <- substr(\"HelloWorld\", 2, 5)  # Extract substring\n",
        "print(sub_str)\n",
        "\n",
        "matched <- grep(\"lo\", \"Hello\", value=TRUE)  # Pattern matching\n",
        "print(matched)\n",
        "\n",
        "replaced <- gsub(\"o\", \"0\", \"Hello\")  # Replace pattern\n",
        "print(replaced)\n",
        "\n",
        "splitted <- strsplit(\"Hello World\", \" \")  # Split strings\n",
        "print(splitted)\n",
        "\n"
      ],
      "metadata": {
        "id": "SzJeplcF4LsK",
        "outputId": "1a9ea2c2-30bc-421f-8730-d2338c1d89a6",
        "colab": {
          "base_uri": "https://localhost:8080/"
        }
      },
      "execution_count": 4,
      "outputs": [
        {
          "output_type": "stream",
          "name": "stdout",
          "text": [
            "[1] \"Hello World\"\n",
            "[1] \"HelloWorld\"\n",
            "[1] \"HELLO\"\n",
            "[1] \"hello\"\n",
            "[1] \"ello\"\n",
            "[1] \"Hello\"\n",
            "[1] \"Hell0\"\n",
            "[[1]]\n",
            "[1] \"Hello\" \"World\"\n",
            "\n"
          ]
        }
      ]
    },
    {
      "cell_type": "code",
      "source": [
        "# Mathematical & Statistical Functions\n",
        "sum_val <- sum(v)  # Sum of elements\n",
        "print(sum_val)\n",
        "\n",
        "prod_val <- prod(v)  # Product of elements\n",
        "print(prod_val)\n",
        "\n",
        "cumsum_val <- cumsum(v)  # Cumulative sum\n",
        "print(cumsum_val)\n",
        "\n",
        "cumprod_val <- cumprod(v)  # Cumulative product\n",
        "print(cumprod_val)\n",
        "\n",
        "mean_val <- mean(v)  # Compute mean\n",
        "print(mean_val)\n",
        "\n",
        "median_val <- median(v)  # Compute median\n",
        "print(median_val)\n",
        "\n",
        "min_val <- min(v)  # Find minimum\n",
        "print(min_val)\n",
        "\n",
        "max_val <- max(v)  # Find maximum\n",
        "print(max_val)\n",
        "\n",
        "range_val <- range(v)  # Find range\n",
        "print(range_val)\n",
        "\n",
        "var_val <- var(v)  # Variance\n",
        "print(var_val)\n",
        "\n",
        "sd_val <- sd(v)  # Standard deviation\n",
        "print(sd_val)\n",
        "\n",
        "quantiles <- quantile(v, probs=c(0.25, 0.5, 0.75))  # Compute quantiles\n",
        "print(quantiles)\n",
        "\n",
        "rounded <- round(3.14159, 2)  # Round values\n",
        "print(rounded)\n",
        "\n",
        "ceiling_val <- ceiling(3.2)  # Round up\n",
        "print(ceiling_val)\n",
        "\n",
        "floor_val <- floor(3.7)  # Round down\n",
        "print(floor_val)\n",
        "\n",
        "abs_val <- abs(-10)  # Absolute value\n",
        "print(abs_val)\n",
        "\n",
        "sqrt_val <- sqrt(16)  # Square root\n",
        "print(sqrt_val)\n",
        "\n",
        "log_val <- log(10)  # Natural logarithm\n",
        "print(log_val)\n",
        "\n",
        "exp_val <- exp(2)  # Exponential function\n",
        "print(exp_val)\n",
        "\n",
        "factorial_val <- factorial(5)  # Compute factorial\n",
        "print(factorial_val)\n",
        "\n",
        "binomial_coef <- choose(5, 2)  # Compute binomial coefficient\n",
        "print(binomial_coef)\n",
        "\n",
        "sin_val <- sin(pi/2)  # Sine function\n",
        "print(sin_val)\n",
        "\n",
        "cos_val <- cos(pi/2)  # Cosine function\n",
        "print(cos_val)\n",
        "\n",
        "tan_val <- tan(pi/4)  # Tangent function\n",
        "print(tan_val)\n",
        "\n"
      ],
      "metadata": {
        "id": "rTaxonsG4RRR",
        "outputId": "62b441b5-03ed-4fc6-d50d-bc7a84a3ebc3",
        "colab": {
          "base_uri": "https://localhost:8080/"
        }
      },
      "execution_count": 5,
      "outputs": [
        {
          "output_type": "stream",
          "name": "stdout",
          "text": [
            "[1] 15\n",
            "[1] 120\n",
            "[1]  1  3  6 10 15\n",
            "[1]   1   2   6  24 120\n",
            "[1] 3\n",
            "[1] 3\n",
            "[1] 1\n",
            "[1] 5\n",
            "[1] 1 5\n",
            "[1] 2.5\n",
            "[1] 1.581139\n",
            "25% 50% 75% \n",
            "  2   3   4 \n",
            "[1] 3.14\n",
            "[1] 4\n",
            "[1] 3\n",
            "[1] 10\n",
            "[1] 4\n",
            "[1] 2.302585\n",
            "[1] 7.389056\n",
            "[1] 120\n",
            "[1] 10\n",
            "[1] 1\n",
            "[1] 6.123234e-17\n",
            "[1] 1\n"
          ]
        }
      ]
    },
    {
      "cell_type": "code",
      "source": [
        "# Debugging & Environment Management\n",
        "ls_objs <- ls()  # List objects\n",
        "print(ls_objs)\n",
        "\n",
        "gc()  # Garbage collection\n",
        "\n",
        "print(\"Hello World\")  # Print output\n",
        "\n",
        "cat(\"Hello\", \"World\", \"\\n\")  # Print text output\n"
      ],
      "metadata": {
        "id": "Yzhf7MKA4UIR",
        "outputId": "5693823f-6619-468f-c13c-20549dbee4be",
        "colab": {
          "base_uri": "https://localhost:8080/",
          "height": 407
        }
      },
      "execution_count": 6,
      "outputs": [
        {
          "output_type": "stream",
          "name": "stdout",
          "text": [
            " [1] \"abs_val\"       \"all_true\"      \"any_true\"      \"binomial_coef\"\n",
            " [5] \"ceiling_val\"   \"char_val\"      \"clean_vec\"     \"cos_val\"      \n",
            " [9] \"cumprod_val\"   \"cumsum_val\"    \"current_date\"  \"date_val\"     \n",
            "[13] \"exists\"        \"exp_val\"       \"factor_val\"    \"factorial_val\"\n",
            "[17] \"floor_val\"     \"freq_table\"    \"idx\"           \"is_na\"        \n",
            "[21] \"len\"           \"log_val\"       \"lower\"         \"match_idx\"    \n",
            "[25] \"matched\"       \"max_val\"       \"mean_val\"      \"median_val\"   \n",
            "[29] \"min_val\"       \"na_vec\"        \"num_val\"       \"o_idx\"        \n",
            "[33] \"prod_val\"      \"quantiles\"     \"range_val\"     \"rep_vec\"      \n",
            "[37] \"replaced\"      \"replaced_vec\"  \"rev_v\"         \"rounded\"      \n",
            "[41] \"sd_val\"        \"seq_vec\"       \"sin_val\"       \"sorted_v\"     \n",
            "[45] \"splitted\"      \"sqrt_val\"      \"str1\"          \"str2\"         \n",
            "[49] \"sub_str\"       \"sum_val\"       \"tan_val\"       \"unique_vals\"  \n",
            "[53] \"upper\"         \"v\"             \"var_val\"      \n"
          ]
        },
        {
          "output_type": "display_data",
          "data": {
            "text/html": [
              "<table class=\"dataframe\">\n",
              "<caption>A matrix: 2 × 6 of type dbl</caption>\n",
              "<thead>\n",
              "\t<tr><th></th><th scope=col>used</th><th scope=col>(Mb)</th><th scope=col>gc trigger</th><th scope=col>(Mb)</th><th scope=col>max used</th><th scope=col>(Mb)</th></tr>\n",
              "</thead>\n",
              "<tbody>\n",
              "\t<tr><th scope=row>Ncells</th><td> 661328</td><td>35.4</td><td>1437938</td><td>76.8</td><td>1437938</td><td>76.8</td></tr>\n",
              "\t<tr><th scope=row>Vcells</th><td>1236383</td><td> 9.5</td><td>8388608</td><td>64.0</td><td>2635043</td><td>20.2</td></tr>\n",
              "</tbody>\n",
              "</table>\n"
            ],
            "text/markdown": "\nA matrix: 2 × 6 of type dbl\n\n| <!--/--> | used | (Mb) | gc trigger | (Mb) | max used | (Mb) |\n|---|---|---|---|---|---|---|\n| Ncells |  661328 | 35.4 | 1437938 | 76.8 | 1437938 | 76.8 |\n| Vcells | 1236383 |  9.5 | 8388608 | 64.0 | 2635043 | 20.2 |\n\n",
            "text/latex": "A matrix: 2 × 6 of type dbl\n\\begin{tabular}{r|llllll}\n  & used & (Mb) & gc trigger & (Mb) & max used & (Mb)\\\\\n\\hline\n\tNcells &  661328 & 35.4 & 1437938 & 76.8 & 1437938 & 76.8\\\\\n\tVcells & 1236383 &  9.5 & 8388608 & 64.0 & 2635043 & 20.2\\\\\n\\end{tabular}\n",
            "text/plain": [
              "       used    (Mb) gc trigger (Mb) max used (Mb)\n",
              "Ncells  661328 35.4 1437938    76.8 1437938  76.8\n",
              "Vcells 1236383  9.5 8388608    64.0 2635043  20.2"
            ]
          },
          "metadata": {}
        },
        {
          "output_type": "stream",
          "name": "stdout",
          "text": [
            "[1] \"Hello World\"\n",
            "Hello World \n"
          ]
        }
      ]
    }
  ]
}